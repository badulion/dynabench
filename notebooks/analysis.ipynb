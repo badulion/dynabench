{
 "cells": [
  {
   "cell_type": "code",
   "execution_count": 108,
   "metadata": {},
   "outputs": [],
   "source": [
    "import pandas as pd\n",
    "import numpy as np\n",
    "import matplotlib.pyplot as plt\n",
    "import glob\n",
    "plt.rcParams.update({'font.size': 14})\n",
    "import os"
   ]
  },
  {
   "cell_type": "code",
   "execution_count": 114,
   "metadata": {},
   "outputs": [],
   "source": [
    "EQUATIONS = [\n",
    "    'wave', \n",
    "    'gas_dynamics', \n",
    "    'reaction_diffusion', \n",
    "    'kuramoto_sivashinsky', \n",
    "    'advection'\n",
    "]\n",
    "EQUATION_REAL_NAMES = {\n",
    "    'wave': 'Wave', \n",
    "    'gas_dynamics': 'Gas Dynamics', \n",
    "    'reaction_diffusion': 'Reaction-Diffusion', \n",
    "    'kuramoto_sivashinsky': 'Kuramoto-Sivashinsky', \n",
    "    'advection': 'Advection'\n",
    "\n",
    "}\n",
    "MODELS = [\n",
    "    'feast', \n",
    "    'gat', \n",
    "    'gcn', \n",
    "    'point_gnn', \n",
    "    'point_transformer', \n",
    "    'kernelNN', \n",
    "    'graphpde', \n",
    "    'persistence',\n",
    "    'cnn', \n",
    "    'resnet', \n",
    "    'neuralpde'\n",
    "]\n",
    "MODEL_REAL_NAMES = {\n",
    "    'feast': 'FeaSt', \n",
    "    'gat': 'GAT', \n",
    "    'gcn': 'GCN', \n",
    "    'point_gnn': 'PointGNN', \n",
    "    'point_net': 'PointNet',\n",
    "    'point_transformer': 'Point Transformer', \n",
    "    'kernelNN': 'KernelNN', \n",
    "    'graphpde': 'GraphPDE', \n",
    "    'persistence': 'Persistence',\n",
    "    'cnn': 'CNN', \n",
    "    'resnet': 'ResNet', \n",
    "    'neuralpde': 'NeuralPDE'\n",
    "}\n",
    "\n",
    "TASK = \"forecast\"\n",
    "SUPPORTS = [\"cloud\", \"grid\"]\n",
    "NUM_POINTS = \"high\"\n",
    "METRIC = [f\"test_rollout_{i}\" for i in range(1,17)]\n",
    "\n",
    "listing = glob.glob(\"../output/csv_logs/cloud/high/*/*/*/metrics.csv\")\n",
    "rows = []\n",
    "for file in listing:\n",
    "    path = file.split(\"/\")\n",
    "    equation = path[5]\n",
    "    model = path[6]\n",
    "    csv = pd.read_csv(file)[[f\"test_rollout_{i}\" for i in range(1, 17)]].dropna()\n",
    "    csv['equation'] = EQUATION_REAL_NAMES[equation]\n",
    "    csv['model'] = MODEL_REAL_NAMES[model]\n",
    "    csv = csv.set_index(['equation', 'model'])\n",
    "    rows.append(csv)\n",
    "\n",
    "results = pd.concat(rows)\n",
    "results = results.query(\"model != \\\"PointNet\\\"\")\n"
   ]
  },
  {
   "cell_type": "code",
   "execution_count": 107,
   "metadata": {},
   "outputs": [
    {
     "data": {
      "text/plain": [
       "<Figure size 640x480 with 0 Axes>"
      ]
     },
     "metadata": {},
     "output_type": "display_data"
    }
   ],
   "source": [
    "UPPER_LIMIT_DICT = {\n",
    "    'Wave': 3.1, \n",
    "    'Gas Dynamics': 2.1, \n",
    "    'Reaction-Diffusion': 4.1, \n",
    "    'Kuramoto-Sivashinsky': 4.1, \n",
    "    'Advection': 2.6\n",
    "}\n",
    "\n",
    "for equation in EQUATIONS:\n",
    "    equation = EQUATION_REAL_NAMES[equation]\n",
    "\n",
    "    for model in MODELS:\n",
    "        model_name = MODEL_REAL_NAMES[model]\n",
    "        values = results.query(f\"model == \\\"{model_name}\\\" and equation == \\\"{equation}\\\"\").values.flatten()\n",
    "\n",
    "        if model_name in [\"CNN\", \"ResNet\", \"NeuralPDE\"]:\n",
    "            linestyle = \"dotted\"\n",
    "        else:\n",
    "            linestyle = \"solid\"\n",
    "\n",
    "        if model_name == \"Persistence\":\n",
    "            color = \"black\"\n",
    "            linewidth = 3\n",
    "            linestyle = \"dashdot\"\n",
    "        else:\n",
    "            color = None\n",
    "            linewidth = 2.5\n",
    "        \n",
    "        plt.plot(range(1, 17), values, label=model_name, linestyle=linestyle, linewidth=linewidth, c=color)\n",
    "\n",
    "    plt.legend()\n",
    "    plt.ylim(-0.1, UPPER_LIMIT_DICT[equation])\n",
    "    plt.tight_layout()\n",
    "    plt.savefig(f\"../figures/results/{equation}.pdf\", dpi=200)\n",
    "    plt.clf()"
   ]
  }
 ],
 "metadata": {
  "kernelspec": {
   "display_name": "venv",
   "language": "python",
   "name": "python3"
  },
  "language_info": {
   "codemirror_mode": {
    "name": "ipython",
    "version": 3
   },
   "file_extension": ".py",
   "mimetype": "text/x-python",
   "name": "python",
   "nbconvert_exporter": "python",
   "pygments_lexer": "ipython3",
   "version": "3.10.9"
  },
  "orig_nbformat": 4,
  "vscode": {
   "interpreter": {
    "hash": "ff8e722afdd61a77d92126a4a3423d36a2d1c26ffad73d88d589856803fd74c8"
   }
  }
 },
 "nbformat": 4,
 "nbformat_minor": 2
}
