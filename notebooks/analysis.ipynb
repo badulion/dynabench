{
 "cells": [
  {
   "cell_type": "code",
   "execution_count": 14,
   "metadata": {},
   "outputs": [],
   "source": [
    "import pandas as pd\n",
    "import numpy as np"
   ]
  },
  {
   "cell_type": "code",
   "execution_count": 18,
   "metadata": {},
   "outputs": [
    {
     "name": "stdout",
     "output_type": "stream",
     "text": [
      "| model             |   brusselator |   gas_dynamics |   kuramoto_sivashinsky |        wave |\n",
      "|:------------------|--------------:|---------------:|-----------------------:|------------:|\n",
      "| feast             |   0.000708671 |    0.000586686 |            0.000104922 | 3.05878e-05 |\n",
      "| gat               |   0.0370567   |    0.0429969   |            0.0967137   | 0.0116138   |\n",
      "| gcn               |   0.284355    |    0.181616    |            0.484141    | 0.0392228   |\n",
      "| persistence       |   0.0404166   |    0.0089862   |            0.00136208  | 0.000278237 |\n",
      "| point_gnn         |   0.000164287 |    0.000201561 |            3.13238e-05 | 8.14812e-06 |\n",
      "| point_net         |   1.00087     |    0.171653    |            1.00321     | 0.988587    |\n",
      "| point_transformer |   0.000556881 |    0.000220286 |            0.000213371 | 1.84354e-05 |\n",
      "| zero              |   1.00087     |    0.993006    |            1.00318     | 0.988589    |\n"
     ]
    }
   ],
   "source": [
    "EQUATIONS = ['wave', 'gas_dynamics', 'brusselator', 'kuramoto_sivashinsky']\n",
    "MODELS = ['feast', 'gat', 'gcn', 'point_gnn', 'point_net', 'point_transformer', 'zero', 'persistence']\n",
    "\n",
    "entries = []\n",
    "for model in MODELS:\n",
    "    for eq in EQUATIONS:\n",
    "        test_loss = pd.read_csv(f\"../output/csv_logs/{eq}/evolution/high/{model}/version_0/metrics.csv\").test_loss.dropna().values[0]\n",
    "        entries.append({'model': model, 'equation': eq, 'value': test_loss})\n",
    "\n",
    "results = pd.DataFrame(entries)\n",
    "results = results.pivot_table(values='value', index=\"model\", columns=\"equation\")\n",
    "print(results.to_markdown())\n",
    "\n"
   ]
  }
 ],
 "metadata": {
  "kernelspec": {
   "display_name": "venv",
   "language": "python",
   "name": "python3"
  },
  "language_info": {
   "codemirror_mode": {
    "name": "ipython",
    "version": 3
   },
   "file_extension": ".py",
   "mimetype": "text/x-python",
   "name": "python",
   "nbconvert_exporter": "python",
   "pygments_lexer": "ipython3",
   "version": "3.10.8"
  },
  "orig_nbformat": 4,
  "vscode": {
   "interpreter": {
    "hash": "ff8e722afdd61a77d92126a4a3423d36a2d1c26ffad73d88d589856803fd74c8"
   }
  }
 },
 "nbformat": 4,
 "nbformat_minor": 2
}
