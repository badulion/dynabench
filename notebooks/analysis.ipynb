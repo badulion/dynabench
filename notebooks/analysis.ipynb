{
 "cells": [
  {
   "cell_type": "code",
   "execution_count": 1,
   "metadata": {},
   "outputs": [],
   "source": [
    "import pandas as pd\n",
    "import numpy as np\n",
    "import matplotlib.pyplot as plt\n",
    "import glob\n",
    "plt.rcParams.update({'font.size': 14})\n",
    "import os\n",
    "\n",
    "import re"
   ]
  },
  {
   "cell_type": "code",
   "execution_count": 2,
   "metadata": {},
   "outputs": [],
   "source": [
    "EQUATIONS = [\n",
    "    'wave', \n",
    "    'gas_dynamics', \n",
    "    'reaction_diffusion', \n",
    "    'kuramoto_sivashinsky', \n",
    "    'advection',\n",
    "    'burgers',\n",
    "]\n",
    "EQUATION_REAL_NAMES = {\n",
    "    'wave': 'Wave', \n",
    "    'gas_dynamics': 'Gas Dynamics', \n",
    "    'reaction_diffusion': 'Reaction-Diffusion', \n",
    "    'kuramoto_sivashinsky': 'Kuramoto-Sivashinsky', \n",
    "    'advection': 'Advection',\n",
    "    'burgers': 'Burgers',\n",
    "\n",
    "}\n",
    "MODELS = [\n",
    "    'feast', \n",
    "    'gat', \n",
    "    'gcn', \n",
    "    'point_gnn', \n",
    "    'point_transformer', \n",
    "    'kernelNN', \n",
    "    'graphpde', \n",
    "    'persistence',\n",
    "    'cnn', \n",
    "    'resnet', \n",
    "    'neuralpde'\n",
    "]\n",
    "MODEL_REAL_NAMES = {\n",
    "    'feast': 'FeaSt', \n",
    "    'gat': 'GAT', \n",
    "    'gcn': 'GCN', \n",
    "    'point_gnn': 'PointGNN', \n",
    "    'point_net': 'PointNet',\n",
    "    'point_transformer': 'Point Transformer', \n",
    "    'kernelNN': 'KernelNN', \n",
    "    'graphpde': 'GraphPDE', \n",
    "    'persistence': 'Persistence',\n",
    "    'cnn': 'CNN', \n",
    "    'resnet': 'ResNet', \n",
    "    'neuralpde': 'NeuralPDE'\n",
    "}\n",
    "\n",
    "TASK = \"forecast\"\n",
    "SUPPORTS = [\"cloud\", \"grid\"]\n",
    "NUM_POINTS = \"high\"\n",
    "METRIC = [f\"test_rollout_{i}\" for i in range(1,17)]\n",
    "\n",
    "listing = glob.glob(\"../output/csv_logs/*/high/*/*/*/metrics.csv\")\n",
    "rows = []\n",
    "for file in listing:\n",
    "    path = file.split(\"/\")\n",
    "    equation = path[5]\n",
    "    model = path[6]\n",
    "    csv = pd.read_csv(file)[[f\"test_rollout_{i}\" for i in range(1, 17)]].dropna()\n",
    "    csv['equation'] = EQUATION_REAL_NAMES[equation]\n",
    "    csv['model'] = MODEL_REAL_NAMES[model]\n",
    "    csv = csv.set_index(['equation', 'model'])\n",
    "    rows.append(csv)\n",
    "\n",
    "results = pd.concat(rows)\n",
    "results = results.query(\"model != \\\"PointNet\\\"\")\n"
   ]
  },
  {
   "cell_type": "code",
   "execution_count": null,
   "metadata": {},
   "outputs": [],
   "source": [
    "results"
   ]
  },
  {
   "cell_type": "code",
   "execution_count": 5,
   "metadata": {},
   "outputs": [
    {
     "name": "stdout",
     "output_type": "stream",
     "text": [
      "| model             |       Advection |   Burgers |   Gas Dynamics |   Kuramoto-Sivashinsky |   Reaction-Diffusion |     Wave |\n",
      "|:------------------|----------------:|----------:|---------------:|-----------------------:|---------------------:|---------:|\n",
      "| CNN               |     0.00161331  |  0.554554 |       0.995382 |            1.26011     |          0.0183483   | 0.561433 |\n",
      "| FeaSt             |     1.48288     |  0.561197 |       0.819594 |            3.74448     |          0.130149    | 1.61066  |\n",
      "| GAT               | 41364.1         |  0.833353 |       1.21436  |            5.68925     |          3.85506     | 2.38418  |\n",
      "| GCN               |     3.51453e+13 | 13.0876   |       7.20633  |            1.70612e+24 |          1.75955e+07 | 7.89253  |\n",
      "| GraphPDE          |     1.07953     |  0.729879 |       0.969208 |            2.1044      |          0.0800235   | 1.02586  |\n",
      "| KernelNN          |     0.897431    |  0.72716  |       0.854015 |            2.00334     |          0.0635278   | 1.57885  |\n",
      "| NeuralPDE         |     0.000270308 |  0.659789 |       0.443498 |            1.05564     |          0.0224155   | 0.247704 |\n",
      "| Persistence       |     2.39393     |  0.679261 |       1.457    |            1.89752     |          0.275678    | 2.61281  |\n",
      "| Point Transformer |     0.617025    |  0.503865 |       0.642879 |            2.09746     |          0.0564399   | 1.27343  |\n",
      "| PointGNN          |     0.660665    |  1.04342  |       0.759257 |            2.82063     |          0.0582293   | 1.30743  |\n",
      "| ResNet            |     8.64621e-05 |  1.86352  |       0.480284 |            1.0697      |          0.00704612  | 0.299457 |\n"
     ]
    },
    {
     "name": "stderr",
     "output_type": "stream",
     "text": [
      "/tmp/ipykernel_16241/4010742912.py:2: FutureWarning: In future versions `DataFrame.to_latex` is expected to utilise the base implementation of `Styler.to_latex` for formatting and rendering. The arguments signature may therefore change. It is recommended instead to use `DataFrame.style.to_latex` which also contains additional functionality.\n",
      "  t = results_single.to_latex(float_format='%.2E')\n"
     ]
    }
   ],
   "source": [
    "results_single = results.pivot_table(values=\"test_rollout_16\", index=\"model\", columns=\"equation\")\n",
    "t = results_single.to_latex(float_format='%.2E')\n",
    "t = results_single.to_markdown()\n",
    "print(t)"
   ]
  },
  {
   "cell_type": "code",
   "execution_count": 72,
   "metadata": {},
   "outputs": [
    {
     "name": "stdout",
     "output_type": "stream",
     "text": [
      "\\begin{tabular}{lrrrrrr}\n",
      "\\toprule\n",
      "equation &  Advection &  Burgers &  Gas Dynamics &  Kuramoto-Sivashinsky &  Reaction-Diffusion &     Wave \\\\\n",
      "model             &            &          &               &                       &                     &          \\\\\n",
      "\\midrule\n",
      "CNN               &   $5.31\\cdot 10^{-5}$ & $1.11\\cdot 10^{-2}$ &      $4.20\\cdot 10^{-3}$ &              $6.70\\cdot 10^{-4}$ &            $3.69\\cdot 10^{-4}$ & $1.43\\cdot 10^{-3}$ \\\\\n",
      "FeaSt             &   $1.30\\cdot 10^{-4}$ & $1.16\\cdot 10^{-2}$ &      $1.62\\cdot 10^{-2}$ &              $1.18\\cdot 10^{-2}$ &            $4.89\\cdot 10^{-4}$ & $5.23\\cdot 10^{-3}$ \\\\\n",
      "GAT               &   $9.60\\cdot 10^{-3}$ & $4.40\\cdot 10^{-2}$ &      $3.75\\cdot 10^{-2}$ &              $6.67\\cdot 10^{-2}$ &            $9.15\\cdot 10^{-3}$ & $1.51\\cdot 10^{-2}$ \\\\\n",
      "GCN               &   $2.64\\cdot 10^{-2}$ & $1.39\\cdot 10^{-1}$ &      $8.43\\cdot 10^{-2}$ &              $4.37\\cdot 10^{-1}$ &            $1.65\\cdot 10^{-1}$ & $3.82\\cdot 10^{-2}$ \\\\\n",
      "GraphPDE          &   $1.37\\cdot 10^{-4}$ & $1.07\\cdot 10^{-2}$ &      $1.95\\cdot 10^{-2}$ &              $7.20\\cdot 10^{-3}$ &            $1.42\\cdot 10^{-4}$ & $2.07\\cdot 10^{-3}$ \\\\\n",
      "KernelNN          &   $6.31\\cdot 10^{-5}$ & $1.06\\cdot 10^{-2}$ &      $1.34\\cdot 10^{-2}$ &              $6.69\\cdot 10^{-3}$ &            $1.87\\cdot 10^{-4}$ & $5.43\\cdot 10^{-3}$ \\\\\n",
      "NeuralPDE         &   $8.24\\cdot 10^{-7}$ & $1.12\\cdot 10^{-2}$ &      $3.73\\cdot 10^{-3}$ &              $5.37\\cdot 10^{-4}$ &            $3.03\\cdot 10^{-4}$ & $1.70\\cdot 10^{-3}$ \\\\\n",
      "Persistence       &   $8.12\\cdot 10^{-2}$ & $3.68\\cdot 10^{-2}$ &      $1.87\\cdot 10^{-1}$ &              $1.42\\cdot 10^{-1}$ &            $1.47\\cdot 10^{-1}$ & $1.14\\cdot 10^{-1}$ \\\\\n",
      "Point Transformer &   $4.42\\cdot 10^{-5}$ & $1.03\\cdot 10^{-2}$ &      $7.25\\cdot 10^{-3}$ &              $4.90\\cdot 10^{-3}$ &            $1.41\\cdot 10^{-4}$ & $2.38\\cdot 10^{-3}$ \\\\\n",
      "PointGNN          &   $2.82\\cdot 10^{-5}$ & $8.83\\cdot 10^{-3}$ &      $9.02\\cdot 10^{-3}$ &              $6.73\\cdot 10^{-3}$ &            $1.36\\cdot 10^{-4}$ & $1.39\\cdot 10^{-3}$ \\\\\n",
      "ResNet            &   $2.16\\cdot 10^{-6}$ & $1.48\\cdot 10^{-2}$ &      $3.21\\cdot 10^{-3}$ &              $4.90\\cdot 10^{-4}$ &            $1.57\\cdot 10^{-4}$ & $1.46\\cdot 10^{-3}$ \\\\\n",
      "\\bottomrule\n",
      "\\end{tabular}\n",
      "\n"
     ]
    }
   ],
   "source": [
    "scores = re.findall(\"\\d\\D\\d\\dE\\D\\d\\d\", t)\n",
    "for s in scores:\n",
    "    exponent = s[6:] if s[6] != \"0\" else s[7]\n",
    "    sign = \"\" if s[5] == \"+\" else \"-\"\n",
    "    formated_s = f\"${s[:4]}\\cdot 10^{{{sign}{exponent}}}$\"\n",
    "    t = t.replace(s, formated_s)\n",
    "\n",
    "print(t)"
   ]
  },
  {
   "cell_type": "code",
   "execution_count": 74,
   "metadata": {},
   "outputs": [
    {
     "data": {
      "text/plain": [
       "<Figure size 640x480 with 0 Axes>"
      ]
     },
     "metadata": {},
     "output_type": "display_data"
    }
   ],
   "source": [
    "UPPER_LIMIT_DICT = {\n",
    "    'Wave': 3.1, \n",
    "    'Gas Dynamics': 2.1, \n",
    "    'Reaction-Diffusion': 4.1, \n",
    "    'Kuramoto-Sivashinsky': 4.1, \n",
    "    'Advection': 2.6,\n",
    "    'Burgers': 2.1\n",
    "}\n",
    "\n",
    "for equation in EQUATIONS:\n",
    "    equation = EQUATION_REAL_NAMES[equation]\n",
    "\n",
    "    for model in MODELS:\n",
    "        model_name = MODEL_REAL_NAMES[model]\n",
    "        values = results.query(f\"model == \\\"{model_name}\\\" and equation == \\\"{equation}\\\"\").values.flatten()\n",
    "\n",
    "        if model_name in [\"CNN\", \"ResNet\", \"NeuralPDE\"]:\n",
    "            linestyle = \"dotted\"\n",
    "        else:\n",
    "            linestyle = \"solid\"\n",
    "\n",
    "        if model_name == \"Persistence\":\n",
    "            color = \"black\"\n",
    "            linewidth = 3\n",
    "            linestyle = \"dashdot\"\n",
    "        else:\n",
    "            color = None\n",
    "            linewidth = 2.5\n",
    "        \n",
    "        #print(equation, model)\n",
    "        #print(values)\n",
    "        plt.plot(range(1, 17), values, label=model_name, linestyle=linestyle, linewidth=linewidth, c=color)\n",
    "    \n",
    "\n",
    "    plt.legend()\n",
    "    plt.ylim(-0.1, UPPER_LIMIT_DICT[equation])\n",
    "    plt.ylabel(\"MSE\")\n",
    "    plt.xlabel(\"Rollout step\")\n",
    "    plt.tight_layout()\n",
    "    plt.savefig(f\"../figures/results/{equation}.pdf\", dpi=200, bbox_inches=\"tight\")\n",
    "    plt.clf()"
   ]
  }
 ],
 "metadata": {
  "kernelspec": {
   "display_name": "venv",
   "language": "python",
   "name": "python3"
  },
  "language_info": {
   "codemirror_mode": {
    "name": "ipython",
    "version": 3
   },
   "file_extension": ".py",
   "mimetype": "text/x-python",
   "name": "python",
   "nbconvert_exporter": "python",
   "pygments_lexer": "ipython3",
   "version": "3.10.10"
  },
  "orig_nbformat": 4,
  "vscode": {
   "interpreter": {
    "hash": "ff8e722afdd61a77d92126a4a3423d36a2d1c26ffad73d88d589856803fd74c8"
   }
  }
 },
 "nbformat": 4,
 "nbformat_minor": 2
}
