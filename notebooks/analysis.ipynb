{
 "cells": [
  {
   "cell_type": "code",
   "execution_count": 2,
   "metadata": {},
   "outputs": [],
   "source": [
    "import pandas as pd\n",
    "import numpy as np"
   ]
  },
  {
   "cell_type": "code",
   "execution_count": 12,
   "metadata": {},
   "outputs": [
    {
     "data": {
      "text/html": [
       "<div>\n",
       "<style scoped>\n",
       "    .dataframe tbody tr th:only-of-type {\n",
       "        vertical-align: middle;\n",
       "    }\n",
       "\n",
       "    .dataframe tbody tr th {\n",
       "        vertical-align: top;\n",
       "    }\n",
       "\n",
       "    .dataframe thead th {\n",
       "        text-align: right;\n",
       "    }\n",
       "</style>\n",
       "<table border=\"1\" class=\"dataframe\">\n",
       "  <thead>\n",
       "    <tr style=\"text-align: right;\">\n",
       "      <th>equation</th>\n",
       "      <th>brusselator</th>\n",
       "      <th>gas_dynamics</th>\n",
       "      <th>kuramoto_sivashinsky</th>\n",
       "      <th>wave</th>\n",
       "    </tr>\n",
       "    <tr>\n",
       "      <th>model</th>\n",
       "      <th></th>\n",
       "      <th></th>\n",
       "      <th></th>\n",
       "      <th></th>\n",
       "    </tr>\n",
       "  </thead>\n",
       "  <tbody>\n",
       "    <tr>\n",
       "      <th>feast</th>\n",
       "      <td>0.000709</td>\n",
       "      <td>0.000587</td>\n",
       "      <td>0.000105</td>\n",
       "      <td>0.000031</td>\n",
       "    </tr>\n",
       "    <tr>\n",
       "      <th>gat</th>\n",
       "      <td>0.037057</td>\n",
       "      <td>0.042997</td>\n",
       "      <td>0.096714</td>\n",
       "      <td>0.011614</td>\n",
       "    </tr>\n",
       "    <tr>\n",
       "      <th>gcn</th>\n",
       "      <td>0.284355</td>\n",
       "      <td>0.181616</td>\n",
       "      <td>0.484141</td>\n",
       "      <td>0.039223</td>\n",
       "    </tr>\n",
       "    <tr>\n",
       "      <th>point_gnn</th>\n",
       "      <td>0.000164</td>\n",
       "      <td>0.000202</td>\n",
       "      <td>0.000031</td>\n",
       "      <td>0.000008</td>\n",
       "    </tr>\n",
       "    <tr>\n",
       "      <th>point_net</th>\n",
       "      <td>1.000867</td>\n",
       "      <td>0.171653</td>\n",
       "      <td>1.003212</td>\n",
       "      <td>0.988587</td>\n",
       "    </tr>\n",
       "    <tr>\n",
       "      <th>point_transformer</th>\n",
       "      <td>0.000557</td>\n",
       "      <td>0.000220</td>\n",
       "      <td>0.000213</td>\n",
       "      <td>0.000018</td>\n",
       "    </tr>\n",
       "  </tbody>\n",
       "</table>\n",
       "</div>"
      ],
      "text/plain": [
       "equation           brusselator  gas_dynamics  kuramoto_sivashinsky      wave\n",
       "model                                                                       \n",
       "feast                 0.000709      0.000587              0.000105  0.000031\n",
       "gat                   0.037057      0.042997              0.096714  0.011614\n",
       "gcn                   0.284355      0.181616              0.484141  0.039223\n",
       "point_gnn             0.000164      0.000202              0.000031  0.000008\n",
       "point_net             1.000867      0.171653              1.003212  0.988587\n",
       "point_transformer     0.000557      0.000220              0.000213  0.000018"
      ]
     },
     "execution_count": 12,
     "metadata": {},
     "output_type": "execute_result"
    }
   ],
   "source": [
    "EQUATIONS = ['wave', 'gas_dynamics', 'brusselator', 'kuramoto_sivashinsky']\n",
    "MODELS = ['feast', 'gat', 'gcn', 'point_gnn', 'point_net', 'point_transformer']\n",
    "\n",
    "entries = []\n",
    "for model in MODELS:\n",
    "    for eq in EQUATIONS:\n",
    "        test_loss = pd.read_csv(f\"../output/csv_logs/{eq}/forecast/high/{model}/version_0/metrics.csv\").test_loss.dropna().values[0]\n",
    "        entries.append({'model': model, 'equation': eq, 'value': test_loss})\n",
    "\n",
    "results = pd.DataFrame(entries)\n",
    "results.pivot_table(values='value', index=\"model\", columns=\"equation\")\n",
    "\n",
    "\n"
   ]
  }
 ],
 "metadata": {
  "kernelspec": {
   "display_name": "venv",
   "language": "python",
   "name": "python3"
  },
  "language_info": {
   "codemirror_mode": {
    "name": "ipython",
    "version": 3
   },
   "file_extension": ".py",
   "mimetype": "text/x-python",
   "name": "python",
   "nbconvert_exporter": "python",
   "pygments_lexer": "ipython3",
   "version": "3.10.8"
  },
  "orig_nbformat": 4,
  "vscode": {
   "interpreter": {
    "hash": "ff8e722afdd61a77d92126a4a3423d36a2d1c26ffad73d88d589856803fd74c8"
   }
  }
 },
 "nbformat": 4,
 "nbformat_minor": 2
}
