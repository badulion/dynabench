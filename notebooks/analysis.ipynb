{
 "cells": [
  {
   "cell_type": "code",
   "execution_count": 10,
   "metadata": {},
   "outputs": [],
   "source": [
    "import pandas as pd\n",
    "import numpy as np"
   ]
  },
  {
   "cell_type": "code",
   "execution_count": 15,
   "metadata": {},
   "outputs": [
    {
     "name": "stdout",
     "output_type": "stream",
     "text": [
      "| model             |   brusselator |   gas_dynamics |   kuramoto_sivashinsky |      wave |\n",
      "|:------------------|--------------:|---------------:|-----------------------:|----------:|\n",
      "| feast             |   0.227424    |       0.255952 |            0.134562    | 0.0339035 |\n",
      "| gat               |   1.29767     |      43.9229   |            1.31319     | 1.7413    |\n",
      "| gcn               |   2.46631e+08 |     326.2      |            2.78559e+15 | 8.68158   |\n",
      "| persistence       |   2.29927     |       0.797735 |            0.28452     | 0.0670084 |\n",
      "| point_gnn         |   0.133019    |       0.298848 |            0.110021    | 0.0503421 |\n",
      "| point_net         |   0.999038    |       2.67773  |            0.998887    | 0.998901  |\n",
      "| point_transformer |   0.166213    |       0.163016 |            0.117403    | 0.0253431 |\n"
     ]
    }
   ],
   "source": [
    "EQUATIONS = ['wave', 'gas_dynamics', 'brusselator', 'kuramoto_sivashinsky']\n",
    "MODELS = ['feast', 'gat', 'gcn', 'point_gnn', 'point_net', 'point_transformer', 'persistence']\n",
    "TASK = \"forecast\"\n",
    "NUM_POINTS = \"high\"\n",
    "METRIC = \"test_rollout_last\"\n",
    "\n",
    "entries = []\n",
    "for model in MODELS:\n",
    "    for eq in EQUATIONS:\n",
    "        test_loss = pd.read_csv(f\"../output/csv_logs/{TASK}/cloud/{NUM_POINTS}/{eq}/{model}/version_0/metrics.csv\")[METRIC].dropna().values[0]\n",
    "        entries.append({'model': model, 'equation': eq, 'value': test_loss})\n",
    "\n",
    "results = pd.DataFrame(entries)\n",
    "results = results.pivot_table(values='value', index=\"model\", columns=\"equation\")\n",
    "print(results.to_markdown())\n",
    "\n"
   ]
  }
 ],
 "metadata": {
  "kernelspec": {
   "display_name": "venv",
   "language": "python",
   "name": "python3"
  },
  "language_info": {
   "codemirror_mode": {
    "name": "ipython",
    "version": 3
   },
   "file_extension": ".py",
   "mimetype": "text/x-python",
   "name": "python",
   "nbconvert_exporter": "python",
   "pygments_lexer": "ipython3",
<<<<<<< HEAD
   "version": "3.10.8 (main, Nov  1 2022, 14:18:21) [GCC 12.2.0]"
=======
   "version": "3.9.16"
>>>>>>> grid_data
  },
  "orig_nbformat": 4,
  "vscode": {
   "interpreter": {
    "hash": "ff8e722afdd61a77d92126a4a3423d36a2d1c26ffad73d88d589856803fd74c8"
   }
  }
 },
 "nbformat": 4,
 "nbformat_minor": 2
}
