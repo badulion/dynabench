{
 "cells": [
  {
   "cell_type": "code",
   "execution_count": 1,
   "metadata": {},
   "outputs": [],
   "source": [
    "import pandas as pd\n",
    "import numpy as np"
   ]
  },
  {
   "cell_type": "code",
   "execution_count": 9,
   "metadata": {},
   "outputs": [
    {
     "name": "stdout",
     "output_type": "stream",
     "text": [
      "\\begin{tabular}{lrrrr}\n",
      "\\toprule\n",
      "equation &  brusselator &  gas\\_dynamics &  kuramoto\\_sivashinsky &    wave \\\\\n",
      "model             &              &               &                       &         \\\\\n",
      "\\midrule\n",
      "difference        &      0.96606 &       0.93705 &               0.81368 & 0.96724 \\\\\n",
      "feast             &      0.02093 &       0.10321 &               0.13297 & 0.24777 \\\\\n",
      "gat               &      0.33506 &       0.16912 &               0.25514 & 0.30096 \\\\\n",
      "gcn               &      0.54936 &       0.55322 &               0.59833 & 0.30945 \\\\\n",
      "point\\_gnn         &      0.01244 &       0.07697 &               0.11041 & 0.24853 \\\\\n",
      "point\\_net         &      0.93022 &       0.99349 &               0.86191 & 0.99493 \\\\\n",
      "point\\_transformer &      0.01364 &       0.06491 &               0.09600 & 0.23825 \\\\\n",
      "\\bottomrule\n",
      "\\end{tabular}\n",
      "\n"
     ]
    },
    {
     "name": "stderr",
     "output_type": "stream",
     "text": [
      "/tmp/ipykernel_7047/3350604355.py:15: FutureWarning: In future versions `DataFrame.to_latex` is expected to utilise the base implementation of `Styler.to_latex` for formatting and rendering. The arguments signature may therefore change. It is recommended instead to use `DataFrame.style.to_latex` which also contains additional functionality.\n",
      "  print(results.to_latex(float_format=\"%.5f\"))\n"
     ]
    }
   ],
   "source": [
    "EQUATIONS = ['wave', 'gas_dynamics', 'brusselator', 'kuramoto_sivashinsky']\n",
    "MODELS = ['feast', 'gat', 'gcn', 'point_gnn', 'point_net', 'point_transformer', 'difference']\n",
    "TASK = \"evolution\"\n",
    "NUM_POINTS = \"high\"\n",
    "METRIC = \"test_loss\"\n",
    "\n",
    "entries = []\n",
    "for model in MODELS:\n",
    "    for eq in EQUATIONS:\n",
    "        test_loss = pd.read_csv(f\"../output/csv_logs/{TASK}/cloud/{NUM_POINTS}/{eq}/{model}/version_0/metrics.csv\")[METRIC].dropna().values[0]\n",
    "        entries.append({'model': model, 'equation': eq, 'value': test_loss})\n",
    "\n",
    "results = pd.DataFrame(entries)\n",
    "results = results.pivot_table(values='value', index=\"model\", columns=\"equation\")\n",
    "print(results.to_latex(float_format=\"%.5f\"))\n",
    "\n"
   ]
  }
 ],
 "metadata": {
  "kernelspec": {
   "display_name": "venv",
   "language": "python",
   "name": "python3"
  },
  "language_info": {
   "codemirror_mode": {
    "name": "ipython",
    "version": 3
   },
   "file_extension": ".py",
   "mimetype": "text/x-python",
   "name": "python",
   "nbconvert_exporter": "python",
   "pygments_lexer": "ipython3",
<<<<<<< HEAD
<<<<<<< HEAD
   "version": "3.10.8 (main, Nov  1 2022, 14:18:21) [GCC 12.2.0]"
=======
   "version": "3.9.16"
>>>>>>> grid_data
=======
   "version": "3.9.16 (main, Dec  7 2022, 00:00:00) \n[GCC 12.2.1 20221121 (Red Hat 12.2.1-4)]"
>>>>>>> grid_data
  },
  "orig_nbformat": 4,
  "vscode": {
   "interpreter": {
    "hash": "ff8e722afdd61a77d92126a4a3423d36a2d1c26ffad73d88d589856803fd74c8"
   }
  }
 },
 "nbformat": 4,
 "nbformat_minor": 2
}
