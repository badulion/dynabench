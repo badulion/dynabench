{
 "cells": [
  {
   "cell_type": "code",
   "execution_count": 51,
   "metadata": {},
   "outputs": [],
   "source": [
    "import numpy as np\n",
    "import tarfile\n",
    "import os\n",
    "import io\n",
    "import matplotlib.pyplot as plt\n",
    "import imageio\n"
   ]
  },
  {
   "cell_type": "code",
   "execution_count": 61,
   "metadata": {},
   "outputs": [],
   "source": [
    "with tarfile.open(\"../data/burgers/val/grid_full_0_0.tar\") as f:\n",
    "    files = f.getnames()\n",
    "    data = f.extractfile(files[0])\n",
    "    stream = io.BytesIO(data.read())\n",
    "    X = np.load(stream)"
   ]
  },
  {
   "cell_type": "code",
   "execution_count": 62,
   "metadata": {},
   "outputs": [
    {
     "data": {
      "text/plain": [
       "0.04989581379741223"
      ]
     },
     "execution_count": 62,
     "metadata": {},
     "output_type": "execute_result"
    }
   ],
   "source": [
    "np.mean((X[1:]-X[:-1])**2)"
   ]
  },
  {
   "cell_type": "code",
   "execution_count": 56,
   "metadata": {},
   "outputs": [],
   "source": [
    "\n",
    "os.makedirs(\"tmp\", exist_ok=True)\n",
    "for i in range(len(X)):\n",
    "    plt.imshow(X[i,0], vmin=-2, vmax=2)\n",
    "    plt.savefig(f\"tmp/{i}.png\")\n",
    "    plt.close()\n",
    "\n",
    "with imageio.get_writer('equation.gif', mode='I') as writer:\n",
    "    file_list = [f\"tmp/{i}.png\" for i in range(len(X))]\n",
    "    for filename in file_list:\n",
    "        image = imageio.imread(filename)\n",
    "        writer.append_data(image)\n",
    "\n",
    "os.remove()"
   ]
  },
  {
   "cell_type": "code",
   "execution_count": null,
   "metadata": {},
   "outputs": [],
   "source": []
  }
 ],
 "metadata": {
  "kernelspec": {
   "display_name": "venv",
   "language": "python",
   "name": "python3"
  },
  "language_info": {
   "codemirror_mode": {
    "name": "ipython",
    "version": 3
   },
   "file_extension": ".py",
   "mimetype": "text/x-python",
   "name": "python",
   "nbconvert_exporter": "python",
   "pygments_lexer": "ipython3",
   "version": "3.10.9"
  },
  "orig_nbformat": 4
 },
 "nbformat": 4,
 "nbformat_minor": 2
}
